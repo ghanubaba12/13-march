{
 "cells": [
  {
   "cell_type": "code",
   "execution_count": null,
   "id": "0bf0697a-d599-45ad-b4e7-262537bfb00d",
   "metadata": {},
   "outputs": [],
   "source": [
    "Q1: What is Matplotlib? Why is it used? Name five plots that can be plotted using the Pyplot module of\n",
    "Matplotlib.\n",
    "ans-Matplotlib is a popular data visualization library in Python that is used to create various types of plots, charts, and graphs. It provides a wide range of tools for creating visual representations of data in an easily understandable format. Matplotlib can be used to create static, interactive, and animated visualizations.\n",
    "\n",
    "Matplotlib is used to create visualizations such as:\n",
    "\n",
    "Line Plot - to show trends and changes over time\n",
    "Bar Plot - to compare data across different categories\n",
    "Scatter Plot - to show the relationship between two continuous variables\n",
    "Histogram - to show the distribution of a single variable\n",
    "Pie Chart - to show the proportion of each category in a dataset\n",
    "These plots can be created using the Pyplot module of Matplotlib, which provides a simple interface for creating plots in Python. Some other popular plots that can be created using Pyplot are box plots, heat maps, and area plots.\n",
    "\n",
    "\n",
    "\n",
    "\n",
    "\n"
   ]
  },
  {
   "cell_type": "code",
   "execution_count": null,
   "id": "24d6e6b3-7bd7-4350-bede-d88a1f923241",
   "metadata": {},
   "outputs": [],
   "source": [
    "Q2: What is a scatter plot? Use the following code to generate data for x and y. Using this generated data\n",
    "plot a scatter plot.A scatter plot is a type of graph used to display the relationship between two continuous variables. It displays data as a collection of points, where each point represents the value of two variables. Scatter plots are commonly used in statistics to analyze the correlation between two variables.\n",
    "\n",
    "To generate data for x and y, we can use the numpy library in Python. We'll generate 50 random numbers for both x and y using the numpy.random function.\n",
    "\n",
    "python\n",
    "Copy code\n",
    "import numpy as np\n",
    "\n",
    "# Generate 50 random numbers for x and y\n",
    "x = np.random.randn(50)\n",
    "y = np.random.randn(50)\n",
    "To create a scatter plot of this data, we can use the matplotlib library in Python. We'll import the pyplot module from matplotlib and use the scatter function to create the plot.\n",
    "\n",
    "python\n",
    "Copy code\n",
    "import matplotlib.pyplot as plt\n",
    "\n",
    "# Create a scatter plot of x and y\n",
    "plt.scatter(x, y)\n",
    "\n",
    "# Add labels to the x and y axes\n",
    "plt.xlabel('X')\n",
    "plt.ylabel('Y')\n",
    "\n",
    "# Show the plot\n",
    "plt.show()\n",
    "This code will create a scatter plot with x-values on the horizontal axis and y-values on the vertical axis. Each point on the plot represents a pair of x and y values from the data we generated. The resulting plot should show a random scatter of points without any discernible pattern or trend.\n",
    "ans-A scatter plot is a type of graph used to display the relationship between two continuous variables. It displays data as a collection of points, where each point represents the value of two variables. Scatter plots are commonly used in statistics to analyze the correlation between two variables.\n",
    "\n",
    "To generate data for x and y, we can use the numpy library in Python. We'll generate 50 random numbers for both x and y using the numpy.random function.\n",
    "\n",
    "python\n",
    "Copy code\n",
    "import numpy as np\n",
    "\n",
    "# Generate 50 random numbers for x and y\n",
    "x = np.random.randn(50)\n",
    "y = np.random.randn(50)\n",
    "To create a scatter plot of this data, we can use the matplotlib library in Python. We'll import the pyplot module from matplotlib and use the scatter function to create the plot.\n",
    "\n",
    "python\n",
    "Copy code\n",
    "import matplotlib.pyplot as plt\n",
    "\n",
    "# Create a scatter plot of x and y\n",
    "plt.scatter(x, y)\n",
    "\n",
    "# Add labels to the x and y axes\n",
    "plt.xlabel('X')\n",
    "plt.ylabel('Y')\n",
    "\n",
    "# Show the plot\n",
    "plt.show()\n",
    "This code will create a scatter plot with x-values on the horizontal axis and y-values on the vertical axis. Each point on the plot represents a pair of x and y values from the data we generated. The resulting plot should show a random scatter of points without any discernible pattern or trend."
   ]
  },
  {
   "cell_type": "code",
   "execution_count": null,
   "id": "196e4a02-c2ae-4ca2-9335-3f605ef01ccb",
   "metadata": {},
   "outputs": [],
   "source": [
    "Q3: Why is the subplot() function used? Draw four line plots using the subplot() function.\n",
    "Use the following data:\n",
    "import numpy as np\n",
    "For line 1: x = np.array([0, 1, 2, 3, 4, 5]) and y = np.array([0, 100, 200, 300, 400, 500])\n",
    "For line 2: x = np.array([0, 1, 2, 3, 4, 5]) and y = np.array([50, 20, 40, 20, 60, 70])\n",
    "For line 3: x = np.array([0, 1, 2, 3, 4, 5]) and y = np.array([10, 20, 30, 40, 50, 60])\n",
    "For line 4: x = np.array([0, 1, 2, 3, 4, 5]) and y = np.array([200, 350, 250, 550, 450, 150])\n",
    "ans-"
   ]
  },
  {
   "cell_type": "code",
   "execution_count": null,
   "id": "a1efc224-e3ae-49a4-b4c4-86e8dd8e1c3f",
   "metadata": {},
   "outputs": [],
   "source": []
  },
  {
   "cell_type": "code",
   "execution_count": null,
   "id": "1d4f9217-392f-415f-81a9-dd85b9ec8758",
   "metadata": {},
   "outputs": [],
   "source": []
  },
  {
   "cell_type": "code",
   "execution_count": null,
   "id": "83704b69-798c-4c75-98d8-bbee9c916bf6",
   "metadata": {},
   "outputs": [],
   "source": []
  },
  {
   "cell_type": "code",
   "execution_count": null,
   "id": "c1667314-b411-430b-801b-7cb474cd9843",
   "metadata": {},
   "outputs": [],
   "source": []
  },
  {
   "cell_type": "code",
   "execution_count": null,
   "id": "f19d7f67-8480-47e1-a5e5-d46af74d6558",
   "metadata": {},
   "outputs": [],
   "source": []
  },
  {
   "cell_type": "code",
   "execution_count": null,
   "id": "9e61b7af-ec87-4d13-986a-bd270002afc0",
   "metadata": {},
   "outputs": [],
   "source": []
  },
  {
   "cell_type": "code",
   "execution_count": null,
   "id": "04c895fc-2f01-4bdc-853e-f437cfec7407",
   "metadata": {},
   "outputs": [],
   "source": []
  },
  {
   "cell_type": "code",
   "execution_count": null,
   "id": "80e73bc5-d66f-448b-9e7a-8e2a274579c3",
   "metadata": {},
   "outputs": [],
   "source": []
  },
  {
   "cell_type": "code",
   "execution_count": null,
   "id": "2c190664-6c81-45f5-ab10-4f1739ca8b40",
   "metadata": {},
   "outputs": [],
   "source": []
  },
  {
   "cell_type": "code",
   "execution_count": null,
   "id": "1681672d-e4a7-4837-af0d-af94fedec856",
   "metadata": {},
   "outputs": [],
   "source": []
  }
 ],
 "metadata": {
  "kernelspec": {
   "display_name": "Python 3 (ipykernel)",
   "language": "python",
   "name": "python3"
  },
  "language_info": {
   "codemirror_mode": {
    "name": "ipython",
    "version": 3
   },
   "file_extension": ".py",
   "mimetype": "text/x-python",
   "name": "python",
   "nbconvert_exporter": "python",
   "pygments_lexer": "ipython3",
   "version": "3.10.8"
  }
 },
 "nbformat": 4,
 "nbformat_minor": 5
}
